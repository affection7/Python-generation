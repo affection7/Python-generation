{
 "cells": [
  {
   "cell_type": "markdown",
   "metadata": {},
   "source": [
    "В Python проверка условия осуществляется при помощи ключевого слова if"
   ]
  },
  {
   "cell_type": "code",
   "execution_count": 2,
   "metadata": {},
   "outputs": [],
   "source": [
    "answer = input('Какой язык программирования мы изучаем?')\n",
    "if answer == 'Python':\n",
    "    print('Верно! Мы ботаем Python =)')\n",
    "    print('Python - отличный язык!')"
   ]
  },
  {
   "cell_type": "markdown",
   "metadata": {},
   "source": [
    "Для того чтобы обеспечить возможность выполнять что-либо в случае, если условие оказалось ложным, мы используем ключевое слово else"
   ]
  },
  {
   "cell_type": "code",
   "execution_count": 3,
   "metadata": {},
   "outputs": [
    {
     "name": "stdout",
     "output_type": "stream",
     "text": [
      "Не совсем так!\n"
     ]
    }
   ],
   "source": [
    "answer = input('Какой язык программирования мы изучаем?')\n",
    "\n",
    "if answer == 'Python':\n",
    "    print('Верно! Мы ботаем Python =)')\n",
    "    print('Python - отличный язык!')\n",
    "else:\n",
    "    print('Не совсем так!')"
   ]
  },
  {
   "cell_type": "code",
   "execution_count": 4,
   "metadata": {},
   "outputs": [
    {
     "name": "stdout",
     "output_type": "stream",
     "text": [
      "Пароль не принят\n"
     ]
    }
   ],
   "source": [
    "paswFirst = input()\n",
    "paswSecond = input()\n",
    "if paswFirst == paswSecond:\n",
    "    print(\"Пароль принят\")\n",
    "else:\n",
    "    print(\"Пароль не принят\")"
   ]
  },
  {
   "cell_type": "code",
   "execution_count": 5,
   "metadata": {},
   "outputs": [
    {
     "name": "stdout",
     "output_type": "stream",
     "text": [
      "Нечетное\n"
     ]
    }
   ],
   "source": [
    "num = int(input())\n",
    "if num % 2 == 0:\n",
    "    print(\"Четное\")\n",
    "else:\n",
    "    print(\"Нечетное\")"
   ]
  },
  {
   "cell_type": "code",
   "execution_count": 6,
   "metadata": {},
   "outputs": [
    {
     "name": "stdout",
     "output_type": "stream",
     "text": [
      "НЕТ\n"
     ]
    }
   ],
   "source": [
    "num = int(input()) # 1614\n",
    "num1 = num // 1000 # 1\n",
    "num2 = (num // 100) % 10 # 6\n",
    "num3 = (num // 10) % 10 # 1\n",
    "num4 = num % 10\n",
    "if num1 + num4 == num2 - num3:\n",
    "    print(\"ДА\")\n",
    "else:\n",
    "    print(\"НЕТ\")"
   ]
  },
  {
   "cell_type": "code",
   "execution_count": 7,
   "metadata": {},
   "outputs": [
    {
     "name": "stdout",
     "output_type": "stream",
     "text": [
      "Доступ запрещен\n"
     ]
    }
   ],
   "source": [
    "year = int(input())\n",
    "if year >= 18:\n",
    "    print(\"Доступ разрешен\")\n",
    "else:\n",
    "    print(\"Доступ запрещен\")"
   ]
  },
  {
   "cell_type": "code",
   "execution_count": 8,
   "metadata": {},
   "outputs": [
    {
     "name": "stdout",
     "output_type": "stream",
     "text": [
      "YES\n"
     ]
    }
   ],
   "source": [
    "num1 = int(input()) \n",
    "num2 = int(input())\n",
    "num3 = int(input())\n",
    "b = num2 - num1\n",
    "if b + num2 == num3:\n",
    "    print(\"YES\")\n",
    "else:\n",
    "    print(\"NO\")"
   ]
  },
  {
   "cell_type": "code",
   "execution_count": 9,
   "metadata": {},
   "outputs": [
    {
     "name": "stdout",
     "output_type": "stream",
     "text": [
      "1\n"
     ]
    }
   ],
   "source": [
    "num1 = int(input())\n",
    "num2 = int(input())\n",
    "if num1 < num2:\n",
    "    print(num1)\n",
    "else:\n",
    "    print(num2)"
   ]
  },
  {
   "cell_type": "code",
   "execution_count": 10,
   "metadata": {},
   "outputs": [
    {
     "name": "stdout",
     "output_type": "stream",
     "text": [
      "1\n"
     ]
    }
   ],
   "source": [
    "num1 = int(input())\n",
    "num2 = int(input())\n",
    "num3 = int(input())\n",
    "num4 = int(input())\n",
    "num1num2 = 0 \n",
    "num3num4 = 0\n",
    "if num1 < num2:\n",
    "    num1num2 = num1\n",
    "else:    \n",
    "    num1num2 = num2\n",
    "if num3 < num4:\n",
    "    num3num4 = num3\n",
    "else:\n",
    "    num3num4 = num4\n",
    "if num1num2 < num3num4:\n",
    "    print(num1num2)\n",
    "else:\n",
    "    print(num3num4)"
   ]
  },
  {
   "cell_type": "code",
   "execution_count": 11,
   "metadata": {},
   "outputs": [
    {
     "name": "stdout",
     "output_type": "stream",
     "text": [
      "детство\n"
     ]
    }
   ],
   "source": [
    "year = int(input())\n",
    "if year <= 13:\n",
    "    print(\"детство\")\n",
    "if 14 <= year <= 24:\n",
    "    print(\"молодость\")\n",
    "if 25 <= year <= 59:\n",
    "    print(\"зрелость\")\n",
    "if year >= 60:\n",
    "    print(\"старость\")"
   ]
  },
  {
   "cell_type": "code",
   "execution_count": 12,
   "metadata": {},
   "outputs": [
    {
     "name": "stdout",
     "output_type": "stream",
     "text": [
      "3\n"
     ]
    }
   ],
   "source": [
    "num1 = int(input())\n",
    "num2 = int(input())\n",
    "num3 = int(input())\n",
    "if num1 > 0 and num2 > 0 and num3 > 0:\n",
    "    print(num1 + num2 + num3)\n",
    "if num1 > 0 and num2 > 0 and num3 < 0:\n",
    "    print(num1 + num2)\n",
    "if num1 > 0 and num2 < 0 and num3 > 0:\n",
    "    print(num1 + num3)\n",
    "if num1 < 0 and num2 > 0 and num3 > 0:\n",
    "    print(num2 + num3)\n",
    "if num1 > 0 and num2 < 0 and num3 < 0:\n",
    "    print(num1)\n",
    "if num1 < 0 and num2 > 0 and num3 < 0:\n",
    "    print(num2)\n",
    "if num1 < 0 and num2 < 0 and num3 > 0:\n",
    "    print(num3)\n",
    "if num1 < 0 and num2 < 0 and num3 < 0:\n",
    "    print(0)"
   ]
  },
  {
   "cell_type": "markdown",
   "metadata": {},
   "source": [
    "В Python есть три логических оператора, которые позволяют создавать сложные условия:\n",
    "\n",
    "and — логическое умножение;\n",
    "or — логическое сложение;\n",
    "not — логическое отрицание."
   ]
  },
  {
   "cell_type": "code",
   "execution_count": null,
   "metadata": {},
   "outputs": [],
   "source": [
    "age = int(input('Сколько вам лет?: '))\n",
    "grade = int(input('В каком классе вы учитесь?: '))\n",
    "if age >= 12 and grade >= 7:\n",
    "    print('Доступ разрешен.')\n",
    "else:\n",
    "    print('Доступ запрещен.')"
   ]
  },
  {
   "cell_type": "code",
   "execution_count": null,
   "metadata": {},
   "outputs": [],
   "source": [
    "city = input('В каком городе вы живете?: ')\n",
    "if city == 'Москва' or city == 'Санкт-Петербург' or city == 'Екатеринбург':\n",
    "    print('Доступ разрешен.')\n",
    "else:\n",
    "    print('Доступ запрещен.')"
   ]
  },
  {
   "cell_type": "code",
   "execution_count": null,
   "metadata": {},
   "outputs": [],
   "source": [
    "age = int(input('Сколько вам лет?: '))\n",
    "if not (age < 12):\n",
    "    print('Доступ разрешен.')\n",
    "else:\n",
    "    print('Доступ запрещен.')"
   ]
  },
  {
   "cell_type": "code",
   "execution_count": null,
   "metadata": {},
   "outputs": [],
   "source": [
    "num = int(input())\n",
    "if -1 < num < 17:\n",
    "    print(\"Принадлежит\")\n",
    "else:\n",
    "    print(\"Не принадлежит\")"
   ]
  },
  {
   "cell_type": "code",
   "execution_count": null,
   "metadata": {},
   "outputs": [],
   "source": [
    "x = int(input())\n",
    "if x <= -3 or x >= 7:\n",
    "    print(\"Принадлежит\")\n",
    "else: \n",
    "    print(\"Не принадлежит\")"
   ]
  },
  {
   "cell_type": "code",
   "execution_count": null,
   "metadata": {},
   "outputs": [],
   "source": [
    "x = int(input())\n",
    "if -30 < x <= -2 or 7 < x <= 25:\n",
    "    print(\"Принадлежит\")\n",
    "else:\n",
    "    print(\"Не принадлежит\")"
   ]
  },
  {
   "cell_type": "code",
   "execution_count": null,
   "metadata": {},
   "outputs": [],
   "source": [
    "num = int(input())\n",
    "if 1000 < num <= 9999 and (num % 7 == 0 or num % 17 == 0):\n",
    "    print(\"YES\")\n",
    "else:\n",
    "    print(\"NO\")"
   ]
  },
  {
   "cell_type": "code",
   "execution_count": null,
   "metadata": {},
   "outputs": [],
   "source": [
    "a = int(input())\n",
    "b = int(input())\n",
    "c = int(input())\n",
    "if a + b > c and a + c > b and b + c > a:\n",
    "    print(\"YES\")\n",
    "else:\n",
    "    print(\"NO\")"
   ]
  },
  {
   "cell_type": "code",
   "execution_count": null,
   "metadata": {},
   "outputs": [],
   "source": [
    "year = int(input())\n",
    "if (year % 4 == 0) and year % 100 != 0 or year % 400 == 0:\n",
    "    print(\"YES\")\n",
    "else:\n",
    "    print(\"NO\")"
   ]
  },
  {
   "cell_type": "code",
   "execution_count": null,
   "metadata": {},
   "outputs": [],
   "source": [
    "num1 = int(input()) # 4\n",
    "num2 = int(input()) # 4\n",
    "num3 = int(input()) # 5\n",
    "num4 = int(input()) # 4\n",
    "if num2 == num4 or num1 == num3:\n",
    "    print(\"YES\")\n",
    "else:\n",
    "    print(\"NO\")"
   ]
  },
  {
   "cell_type": "code",
   "execution_count": null,
   "metadata": {},
   "outputs": [],
   "source": [
    "num1 = int(input()) # 4\n",
    "num2 = int(input()) # 4\n",
    "num3 = int(input()) # 5\n",
    "num4 = int(input()) # 4\n",
    "if (num2 - 1 <= num4 <= num2 +1) and (num1 - 1 <= num3 <= num1 + 1) or num2 - 1 <= num4 <= num2 + 1 and num1 - 1 <= num3 <= num1:\n",
    "    print(\"YES\")\n",
    "else:\n",
    "    print(\"NO\")"
   ]
  },
  {
   "cell_type": "code",
   "execution_count": null,
   "metadata": {},
   "outputs": [],
   "source": [
    "n = int(input())\n",
    "k = int(input())\n",
    "if n > k:\n",
    "    print(\"NO\")\n",
    "elif k > n:\n",
    "    print(\"YES\")\n",
    "else:\n",
    "    print(\"Don't know\")"
   ]
  },
  {
   "cell_type": "code",
   "execution_count": null,
   "metadata": {},
   "outputs": [],
   "source": [
    "a = int(input())\n",
    "b = int(input())\n",
    "c = int(input())\n",
    "if a == b == c:\n",
    "    print(\"Равносторонний\")\n",
    "elif a == b or a == c or b ==c:\n",
    "    print(\"Равнобедренный\")\n",
    "else:\n",
    "    print(\"Разносторонний\")"
   ]
  },
  {
   "cell_type": "code",
   "execution_count": null,
   "metadata": {},
   "outputs": [],
   "source": [
    "a = int(input())\n",
    "b = int(input())\n",
    "c = int(input())\n",
    "if a < b < c or c < b <a:\n",
    "    print(b)\n",
    "elif b < a < c or c < a < b:\n",
    "    print(a)\n",
    "elif a < c < b or b < c < a:\n",
    "    print(c)"
   ]
  },
  {
   "cell_type": "code",
   "execution_count": null,
   "metadata": {},
   "outputs": [],
   "source": [
    "mon = int(input())\n",
    "if mon == 1 or mon == 3 or mon == 5 or mon == 7 or mon == 8 or mon == 10 or mon == 12: \n",
    "    print(\"31\")\n",
    "elif mon == 4 or mon == 6 or mon == 9 or mon == 11:\n",
    "    print(\"30\")\n",
    "else:\n",
    "    print(\"28\")"
   ]
  },
  {
   "cell_type": "code",
   "execution_count": null,
   "metadata": {},
   "outputs": [],
   "source": [
    "wee = int(input())\n",
    "if wee < 60:\n",
    "    print(\"Легкий вес\")\n",
    "elif 60 <= wee < 64:\n",
    "    print(\"Первый полусредний вес\")\n",
    "else:\n",
    "    print(\"Полусредний вес \")"
   ]
  },
  {
   "cell_type": "code",
   "execution_count": null,
   "metadata": {},
   "outputs": [],
   "source": [
    "num1 = int(input())\n",
    "num2 = int(input())\n",
    "stri = input()\n",
    "if stri == \"+\":\n",
    "    print(num1 + num2)\n",
    "elif stri == \"-\":\n",
    "    print(num1 - num2)\n",
    "elif stri == \"*\":\n",
    "    print(num1 * num2)\n",
    "elif stri == \"/\":\n",
    "    if num2 == 0:\n",
    "        print(\"На ноль делить нельзя!\")\n",
    "    else:\n",
    "        print(num1 / num2)\n",
    "else:\n",
    "    print(\"Неверная операция\")"
   ]
  },
  {
   "cell_type": "code",
   "execution_count": null,
   "metadata": {},
   "outputs": [],
   "source": [
    "color1 = input()\n",
    "color2 = input()\n",
    "red = \"красный\"\n",
    "blue = \"синий\"\n",
    "yellow = \"желтый\"\n",
    "if color1 != red and color1 != blue and color1 != yellow or color2 != red and color2 != blue and color2 != yellow:\n",
    "    print(\"ошибка цвета\")\n",
    "elif color1 == red and color2 == blue or color2 == red and color1 == blue:\n",
    "    print(\"фиолетовый\")\n",
    "elif color1 == red and color2 == yellow or color2 == red and color1 == yellow:\n",
    "    print(\"оранжевый\")\n",
    "elif color1 == blue and color2 == yellow or color2 == blue and color1 == yellow:\n",
    "    print(\"зеленый\")\n",
    "elif color1 == red and color2 == red:\n",
    "    print(\"красный\")\n",
    "elif color1 == blue and color2 == blue:\n",
    "    print(\"синий\")\n",
    "elif color1 == yellow and color2 == yellow:\n",
    "    print(\"желтый\")  "
   ]
  },
  {
   "cell_type": "code",
   "execution_count": null,
   "metadata": {},
   "outputs": [],
   "source": [
    "num = int(input())\n",
    "if 0 > num  or num > 36:\n",
    "    print(\"ошибка ввода\")\n",
    "elif num == 0:\n",
    "    print(\"зеленый\")\n",
    "elif 0 < num <= 10 or 19 <= num <= 28:\n",
    "    if num % 2 == 0:\n",
    "        print(\"черный\")\n",
    "    else:\n",
    "        print(\"красный\")\n",
    "elif 11 <= num <= 18 or 29 <= num <= 36:\n",
    "    if num % 2 == 0:\n",
    "        print(\"красный\")\n",
    "    else:\n",
    "        print(\"черный\")"
   ]
  },
  {
   "cell_type": "code",
   "execution_count": null,
   "metadata": {},
   "outputs": [],
   "source": [
    "a1 = int(input())\n",
    "b1 = int(input())\n",
    "a2 = int(input())\n",
    "b2 = int(input())\n",
    "if b1 < a2 or b2 < a1:\n",
    "    print('пустое множество')\n",
    "elif b1 == a2:\n",
    "    print(b1)\n",
    "elif a1 == b2:\n",
    "    print(a1)    \n",
    "elif a1 <= a2 < b1  < b2:\n",
    "    print(a2, b1)\n",
    "elif a2 <= a1 < b2 < b1:\n",
    "    print(a1, b2)    \n",
    "elif a1 < a2 < b2 <= b1:\n",
    "    print(a2, b2)\n",
    "elif a2 < a1 < b1 <= b2 or a1 == a2 and b1 == b2:\n",
    "    print(a1, b1)"
   ]
  }
 ],
 "metadata": {
  "kernelspec": {
   "display_name": "Python 3",
   "language": "python",
   "name": "python3"
  },
  "language_info": {
   "codemirror_mode": {
    "name": "ipython",
    "version": 3
   },
   "file_extension": ".py",
   "mimetype": "text/x-python",
   "name": "python",
   "nbconvert_exporter": "python",
   "pygments_lexer": "ipython3",
   "version": "3.13.2"
  }
 },
 "nbformat": 4,
 "nbformat_minor": 2
}
