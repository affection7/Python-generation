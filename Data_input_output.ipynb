{
 "cells": [
  {
   "cell_type": "code",
   "execution_count": 1,
   "metadata": {},
   "outputs": [
    {
     "name": "stdout",
     "output_type": "stream",
     "text": [
      "Здравствуй, мир!\n"
     ]
    }
   ],
   "source": [
    "print(\"Здравствуй, мир!\")"
   ]
  },
  {
   "cell_type": "code",
   "execution_count": 2,
   "metadata": {},
   "outputs": [
    {
     "name": "stdout",
     "output_type": "stream",
     "text": [
      "4 8 15 16 23 42\n"
     ]
    }
   ],
   "source": [
    "print(\"4\", \"8\", \"15\", \"16\", \"23\", \"42\")"
   ]
  },
  {
   "cell_type": "code",
   "execution_count": 3,
   "metadata": {},
   "outputs": [
    {
     "name": "stdout",
     "output_type": "stream",
     "text": [
      "4\n",
      "8\n",
      "15\n",
      "16\n",
      "23\n",
      "42\n"
     ]
    }
   ],
   "source": [
    "print(\"4\")\n",
    "print(\"8\")\n",
    "print(\"15\")\n",
    "print(\"16\")\n",
    "print(\"23\")\n",
    "print(\"42\")"
   ]
  },
  {
   "cell_type": "code",
   "execution_count": 4,
   "metadata": {},
   "outputs": [
    {
     "name": "stdout",
     "output_type": "stream",
     "text": [
      "*\n",
      "**\n",
      "***\n",
      "****\n",
      "*****\n",
      "******\n",
      "*******\n"
     ]
    }
   ],
   "source": [
    "print('*')\n",
    "print('**')\n",
    "print('***')\n",
    "print('****')\n",
    "print('*****')\n",
    "print('******')\n",
    "print('*******')"
   ]
  },
  {
   "cell_type": "markdown",
   "metadata": {},
   "source": [
    "INPUT\n",
    "\n",
    "Для считывания данных в языке Python используется команда input()"
   ]
  },
  {
   "cell_type": "code",
   "execution_count": 5,
   "metadata": {},
   "outputs": [
    {
     "name": "stdout",
     "output_type": "stream",
     "text": [
      "Привет, 1\n"
     ]
    }
   ],
   "source": [
    "print(\"Привет,\", input())"
   ]
  },
  {
   "cell_type": "code",
   "execution_count": 6,
   "metadata": {},
   "outputs": [
    {
     "name": "stdout",
     "output_type": "stream",
     "text": [
      "23 - чемпион!\n"
     ]
    }
   ],
   "source": [
    "print(input(), \"- чемпион!\")\n"
   ]
  },
  {
   "cell_type": "code",
   "execution_count": 7,
   "metadata": {},
   "outputs": [
    {
     "name": "stdout",
     "output_type": "stream",
     "text": [
      "1\n",
      "1\n",
      "2\n"
     ]
    }
   ],
   "source": [
    "print(input())\n",
    "print(input())\n",
    "print(input())"
   ]
  },
  {
   "cell_type": "code",
   "execution_count": 8,
   "metadata": {},
   "outputs": [
    {
     "name": "stdout",
     "output_type": "stream",
     "text": [
      "1\n",
      "2\n",
      "3\n"
     ]
    }
   ],
   "source": [
    "name1 = input()\n",
    "name2 = input()\n",
    "name3 = input()\n",
    "print(name3)\n",
    "print(name2)\n",
    "print(name1)"
   ]
  },
  {
   "cell_type": "code",
   "execution_count": 11,
   "metadata": {},
   "outputs": [
    {
     "name": "stdout",
     "output_type": "stream",
     "text": [
      "I***like***Python\n"
     ]
    }
   ],
   "source": [
    "print(\"I\", \"like\", \"Python\", sep=\"***\")"
   ]
  },
  {
   "cell_type": "code",
   "execution_count": 12,
   "metadata": {},
   "outputs": [
    {
     "name": "stdout",
     "output_type": "stream",
     "text": [
      "Привет, 1!"
     ]
    }
   ],
   "source": [
    "print(\"Привет,\", input(), end=\"!\")"
   ]
  },
  {
   "cell_type": "code",
   "execution_count": 13,
   "metadata": {},
   "outputs": [
    {
     "name": "stdout",
     "output_type": "stream",
     "text": [
      "1/2/3\n"
     ]
    }
   ],
   "source": [
    "separ = input()\n",
    "txt1 = input()\n",
    "txt2 = input()\n",
    "txt3 = input()\n",
    "print(txt1, txt2, txt3, sep=separ)"
   ]
  },
  {
   "cell_type": "code",
   "execution_count": 14,
   "metadata": {},
   "outputs": [
    {
     "name": "stdout",
     "output_type": "stream",
     "text": [
      "4\n"
     ]
    }
   ],
   "source": [
    "b1 = int(input())\n",
    "q = int(input())\n",
    "n = int(input())\n",
    "print(b1 * q**(n - 1))"
   ]
  },
  {
   "cell_type": "code",
   "execution_count": 15,
   "metadata": {},
   "outputs": [
    {
     "name": "stdout",
     "output_type": "stream",
     "text": [
      "0\n"
     ]
    }
   ],
   "source": [
    "a = int(input())\n",
    "print(a // 100)"
   ]
  },
  {
   "cell_type": "code",
   "execution_count": 16,
   "metadata": {},
   "outputs": [
    {
     "name": "stdout",
     "output_type": "stream",
     "text": [
      "2\n",
      "0\n"
     ]
    }
   ],
   "source": [
    "n = int(input())\n",
    "k = int(input())\n",
    "print(k // n)\n",
    "print(k % n)"
   ]
  },
  {
   "cell_type": "code",
   "execution_count": 17,
   "metadata": {},
   "outputs": [
    {
     "name": "stdout",
     "output_type": "stream",
     "text": [
      "2\n"
     ]
    }
   ],
   "source": [
    "n = int(input()) + 1\n",
    "print(n // 2)"
   ]
  },
  {
   "cell_type": "code",
   "execution_count": 18,
   "metadata": {},
   "outputs": [
    {
     "name": "stdout",
     "output_type": "stream",
     "text": [
      "521 мин - это 8 час 41 минут.\n"
     ]
    }
   ],
   "source": [
    "min = int(input())\n",
    "print(min, \"мин\", \"-\", \"это\", min // 60, \"час\", min % 60, \"минут.\")"
   ]
  },
  {
   "cell_type": "code",
   "execution_count": 19,
   "metadata": {},
   "outputs": [
    {
     "name": "stdout",
     "output_type": "stream",
     "text": [
      "14\n"
     ]
    }
   ],
   "source": [
    "m = int(input())\n",
    "print(-(-m // 4))"
   ]
  },
  {
   "cell_type": "code",
   "execution_count": 22,
   "metadata": {},
   "outputs": [
    {
     "name": "stdout",
     "output_type": "stream",
     "text": [
      "Сумма цифр = 7\n",
      "Произведение цифр = 5\n"
     ]
    }
   ],
   "source": [
    "m = int(input())\n",
    "dig1 = m // 100\n",
    "dig2 = (m % 100) // 10\n",
    "dig3 = m % 10\n",
    "print(\"Сумма цифр =\", dig1 + dig2 + dig3)\n",
    "print(\"Произведение цифр =\", dig1 * dig2 * dig3)"
   ]
  },
  {
   "cell_type": "code",
   "execution_count": 23,
   "metadata": {},
   "outputs": [
    {
     "name": "stdout",
     "output_type": "stream",
     "text": [
      "123\n",
      "132\n",
      "213\n",
      "231\n",
      "312\n",
      "321\n"
     ]
    }
   ],
   "source": [
    "dig = int(input())\n",
    "dig1, dig2, dig3 = dig // 100, (dig % 100) // 10, dig % 10\n",
    "print(dig1, dig2, dig3, sep='')\n",
    "print(dig1, dig3, dig2, sep='')\n",
    "print(dig2, dig1, dig3, sep='')\n",
    "print(dig2, dig3, dig1, sep='')\n",
    "print(dig3, dig1, dig2, sep='')\n",
    "print(dig3, dig2, dig1, sep='')"
   ]
  },
  {
   "cell_type": "code",
   "execution_count": 24,
   "metadata": {},
   "outputs": [
    {
     "name": "stdout",
     "output_type": "stream",
     "text": [
      "Цифра в позиции тысяч равна 1\n",
      "Цифра в позиции сотен равна 2\n",
      "Цифра в позиции десятков равна 4\n",
      "Цифра в позиции единиц равна 4\n"
     ]
    }
   ],
   "source": [
    "dig = int(input()) # 9999\n",
    "dig1 = dig // 1000 # 9\n",
    "dig2 = ((dig // 10) % 100) // 10\n",
    "dig3 = (dig // 10) % 10\n",
    "dig4 = dig % 10\n",
    "print(\"Цифра в позиции тысяч равна\", dig1)\n",
    "print(\"Цифра в позиции сотен равна\", dig2)\n",
    "print(\"Цифра в позиции десятков равна\", dig3)\n",
    "print(\"Цифра в позиции единиц равна\", dig4)"
   ]
  }
 ],
 "metadata": {
  "kernelspec": {
   "display_name": "Python 3",
   "language": "python",
   "name": "python3"
  },
  "language_info": {
   "codemirror_mode": {
    "name": "ipython",
    "version": 3
   },
   "file_extension": ".py",
   "mimetype": "text/x-python",
   "name": "python",
   "nbconvert_exporter": "python",
   "pygments_lexer": "ipython3",
   "version": "3.13.2"
  }
 },
 "nbformat": 4,
 "nbformat_minor": 2
}
